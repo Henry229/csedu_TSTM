{
 "cells": [
  {
   "cell_type": "markdown",
   "id": "enabling-airplane",
   "metadata": {},
   "source": [
    "# Clean the log file"
   ]
  },
  {
   "cell_type": "code",
   "execution_count": 1,
   "id": "ideal-theta",
   "metadata": {},
   "outputs": [],
   "source": [
    "import json\n",
    "\n",
    "from pyspark import SparkContext\n",
    "from pyspark.sql import SparkSession \n",
    "from pyspark.sql.functions import col\n",
    "import pyspark.sql.functions as f\n",
    "from pyspark.sql.window import Window"
   ]
  },
  {
   "cell_type": "code",
   "execution_count": 22,
   "id": "radio-village",
   "metadata": {},
   "outputs": [],
   "source": [
    "original_file_name = \"request.log.result1\"\n",
    "new_file_name = \"request_result1.json\"\n",
    "with open(original_file_name) as in_file:\n",
    "    with open(new_file_name, \"wt\") as out_file:\n",
    "        for line in in_file.readlines():\n",
    "            try:\n",
    "                tmp = json.loads(line)\n",
    "                out_file.write(line)\n",
    "            except:\n",
    "                pass"
   ]
  },
  {
   "cell_type": "code",
   "execution_count": 34,
   "id": "confused-birth",
   "metadata": {},
   "outputs": [],
   "source": [
    "original_file_name = \"request.log.result2\"\n",
    "new_file_name2 = \"request_result2.json\"\n",
    "with open(original_file_name) as in_file:\n",
    "    with open(new_file_name2, \"wt\") as out_file:\n",
    "        for line in in_file.readlines():\n",
    "            try:\n",
    "                tmp = json.loads(line)\n",
    "                out_file.write(line)\n",
    "            except:\n",
    "                pass"
   ]
  },
  {
   "cell_type": "code",
   "execution_count": 23,
   "id": "compatible-grammar",
   "metadata": {},
   "outputs": [],
   "source": [
    "sc = SparkContext.getOrCreate()\n",
    "spark = SparkSession(sc)"
   ]
  },
  {
   "cell_type": "code",
   "execution_count": 35,
   "id": "defensive-proof",
   "metadata": {},
   "outputs": [],
   "source": [
    "sdf = spark.read.json(new_file_name2)"
   ]
  },
  {
   "cell_type": "markdown",
   "id": "spread-connection",
   "metadata": {},
   "source": [
    "# inward"
   ]
  },
  {
   "cell_type": "code",
   "execution_count": 36,
   "id": "prostate-projection",
   "metadata": {},
   "outputs": [
    {
     "name": "stdout",
     "output_type": "stream",
     "text": [
      "+-------+-------------------+\n",
      "|   path|        lapsed_time|\n",
      "+-------+-------------------+\n",
      "|/inward|0.43576836585998535|\n",
      "|/inward| 0.4208710193634033|\n",
      "|/inward| 0.4045383930206299|\n",
      "|/inward| 0.3932313919067383|\n",
      "|/inward| 0.3807680606842041|\n",
      "|/inward| 0.3786754608154297|\n",
      "|/inward|0.37462830543518066|\n",
      "|/inward|0.37224292755126953|\n",
      "|/inward| 0.3684699535369873|\n",
      "|/inward|0.36304378509521484|\n",
      "|/inward|0.36124563217163086|\n",
      "|/inward|  0.357715368270874|\n",
      "|/inward|0.35612916946411133|\n",
      "|/inward|0.35605669021606445|\n",
      "|/inward|0.35543155670166016|\n",
      "|/inward|0.35368895530700684|\n",
      "|/inward| 0.3485085964202881|\n",
      "|/inward|0.34664058685302734|\n",
      "|/inward| 0.3458690643310547|\n",
      "|/inward| 0.3457818031311035|\n",
      "+-------+-------------------+\n",
      "only showing top 20 rows\n",
      "\n"
     ]
    }
   ],
   "source": [
    "inwards = sdf.filter(col('path').startswith('/inward'))\n",
    "inwards.select(\"path\", \"lapsed_time\").orderBy(col(\"lapsed_time\").desc()).show()"
   ]
  },
  {
   "cell_type": "markdown",
   "id": "lucky-tomorrow",
   "metadata": {},
   "source": [
    "# Start"
   ]
  },
  {
   "cell_type": "code",
   "execution_count": 37,
   "id": "anticipated-occasion",
   "metadata": {},
   "outputs": [
    {
     "name": "stdout",
     "output_type": "stream",
     "text": [
      "+----------+------------------+\n",
      "|      path|       lapsed_time|\n",
      "+----------+------------------+\n",
      "|/api/start|13.196900844573975|\n",
      "|/api/start| 12.52594256401062|\n",
      "|/api/start|12.296721696853638|\n",
      "|/api/start|12.205639600753784|\n",
      "|/api/start|12.196059465408325|\n",
      "|/api/start|11.787796258926392|\n",
      "|/api/start|11.692582368850708|\n",
      "|/api/start|11.552896499633789|\n",
      "|/api/start|11.424241304397583|\n",
      "|/api/start|11.397975206375122|\n",
      "|/api/start| 11.38541054725647|\n",
      "|/api/start|11.360492467880249|\n",
      "|/api/start|11.352541208267212|\n",
      "|/api/start|11.190306663513184|\n",
      "|/api/start|11.097459554672241|\n",
      "|/api/start|10.772967338562012|\n",
      "|/api/start|10.716775178909302|\n",
      "|/api/start|10.639881610870361|\n",
      "|/api/start|10.540968179702759|\n",
      "|/api/start|10.523723125457764|\n",
      "+----------+------------------+\n",
      "only showing top 20 rows\n",
      "\n"
     ]
    }
   ],
   "source": [
    "starts = sdf.filter(col('path').startswith('/api/start'))\n",
    "starts.select(\"path\", \"lapsed_time\").orderBy(col(\"lapsed_time\").desc()).show()"
   ]
  },
  {
   "cell_type": "code",
   "execution_count": 38,
   "id": "artificial-lottery",
   "metadata": {},
   "outputs": [
    {
     "data": {
      "text/plain": [
       "array([[<AxesSubplot:title={'center':'lapsed_time'}>]], dtype=object)"
      ]
     },
     "execution_count": 38,
     "metadata": {},
     "output_type": "execute_result"
    },
    {
     "data": {
      "image/png": "[encoded data removed]",
      "text/plain": [
       "<Figure size 432x288 with 1 Axes>"
      ]
     },
     "metadata": {
      "needs_background": "light"
     },
     "output_type": "display_data"
    }
   ],
   "source": [
    "start_pdf = starts.toPandas()\n",
    "start_pdf.hist(\"lapsed_time\")"
   ]
  },
  {
   "cell_type": "markdown",
   "id": "important-auditor",
   "metadata": {},
   "source": [
    "# Response"
   ]
  },
  {
   "cell_type": "code",
   "execution_count": 40,
   "id": "selective-packaging",
   "metadata": {},
   "outputs": [
    {
     "name": "stdout",
     "output_type": "stream",
     "text": [
      "+--------------------+-------------------+\n",
      "|                path|        lapsed_time|\n",
      "+--------------------+-------------------+\n",
      "|/api/responses/20626|0.28113532066345215|\n",
      "|/api/responses/20606| 0.2638874053955078|\n",
      "|/api/responses/20603|0.26298093795776367|\n",
      "|/api/responses/20628|  0.259169340133667|\n",
      "|/api/responses/20612| 0.2558879852294922|\n",
      "|/api/responses/20604|0.25369763374328613|\n",
      "|/api/responses/20632| 0.2516489028930664|\n",
      "|/api/responses/20618|0.24899077415466309|\n",
      "|/api/responses/20632|0.24763226509094238|\n",
      "|/api/responses/20623|0.24509119987487793|\n",
      "|/api/responses/20607|0.24201083183288574|\n",
      "|/api/responses/20629|0.24092769622802734|\n",
      "|/api/responses/20608|0.23812556266784668|\n",
      "|/api/responses/20610| 0.2375478744506836|\n",
      "|/api/responses/20621|0.23444485664367676|\n",
      "|/api/responses/20608|0.23380780220031738|\n",
      "|/api/responses/20615|0.23287606239318848|\n",
      "|/api/responses/20632|0.23173761367797852|\n",
      "|/api/responses/20627|0.23073863983154297|\n",
      "|/api/responses/20627|0.22983860969543457|\n",
      "+--------------------+-------------------+\n",
      "only showing top 20 rows\n",
      "\n"
     ]
    }
   ],
   "source": [
    "response = sdf.filter(col('path').startswith('/api/response'))\n",
    "response.select(\"path\", \"lapsed_time\").orderBy(col(\"lapsed_time\").desc()).show()"
   ]
  },
  {
   "cell_type": "code",
   "execution_count": 41,
   "id": "challenging-balloon",
   "metadata": {},
   "outputs": [
    {
     "data": {
      "text/plain": [
       "array([[<AxesSubplot:title={'center':'lapsed_time'}>]], dtype=object)"
      ]
     },
     "execution_count": 41,
     "metadata": {},
     "output_type": "execute_result"
    },
    {
     "data": {
      "image/png": "[encoded data removed]",
      "text/plain": [
       "<Figure size 432x288 with 1 Axes>"
      ]
     },
     "metadata": {
      "needs_background": "light"
     },
     "output_type": "display_data"
    }
   ],
   "source": [
    "response_pdf = response.toPandas()\n",
    "response_pdf.hist(\"lapsed_time\")"
   ]
  },
  {
   "cell_type": "markdown",
   "id": "wanted-circumstances",
   "metadata": {},
   "source": [
    "# Rendered"
   ]
  },
  {
   "cell_type": "code",
   "execution_count": 42,
   "id": "angry-migration",
   "metadata": {},
   "outputs": [
    {
     "name": "stdout",
     "output_type": "stream",
     "text": [
      "+-------------------+-------------------+\n",
      "|               path|        lapsed_time|\n",
      "+-------------------+-------------------+\n",
      "|/api/rendered/20631|0.14966797828674316|\n",
      "|/api/rendered/20619|0.13191628456115723|\n",
      "|/api/rendered/20624|0.12714338302612305|\n",
      "|/api/rendered/20611|0.12226200103759766|\n",
      "|/api/rendered/20604|0.11381769180297852|\n",
      "|/api/rendered/20628| 0.1110391616821289|\n",
      "|/api/rendered/20626|0.11006021499633789|\n",
      "|/api/rendered/20619|0.10654973983764648|\n",
      "|/api/rendered/20611|0.10535192489624023|\n",
      "|/api/rendered/20617|0.10137534141540527|\n",
      "|/api/rendered/20619|0.09893584251403809|\n",
      "|/api/rendered/20613|0.09669256210327148|\n",
      "|/api/rendered/20622|0.09602046012878418|\n",
      "|/api/rendered/20606|0.09487628936767578|\n",
      "|/api/rendered/20620|0.09446930885314941|\n",
      "|/api/rendered/20618|0.09354925155639648|\n",
      "|/api/rendered/20619|0.09126162528991699|\n",
      "|/api/rendered/20618|0.09073686599731445|\n",
      "|/api/rendered/20611|0.09022903442382812|\n",
      "|/api/rendered/20629|0.08983278274536133|\n",
      "+-------------------+-------------------+\n",
      "only showing top 20 rows\n",
      "\n"
     ]
    }
   ],
   "source": [
    "rendered = sdf.filter(col('path').startswith('/api/rendered'))\n",
    "rendered.select(\"path\", \"lapsed_time\").orderBy(col(\"lapsed_time\").desc()).show()"
   ]
  },
  {
   "cell_type": "code",
   "execution_count": 43,
   "id": "removed-ready",
   "metadata": {},
   "outputs": [
    {
     "data": {
      "text/plain": [
       "array([[<AxesSubplot:title={'center':'lapsed_time'}>]], dtype=object)"
      ]
     },
     "execution_count": 43,
     "metadata": {},
     "output_type": "execute_result"
    },
    {
     "data": {
      "image/png": "[encoded data removed]",
      "text/plain": [
       "<Figure size 432x288 with 1 Axes>"
      ]
     },
     "metadata": {
      "needs_background": "light"
     },
     "output_type": "display_data"
    }
   ],
   "source": [
    "rendered_pdf = rendered.toPandas()\n",
    "rendered_pdf.hist(\"lapsed_time\")"
   ]
  },
  {
   "cell_type": "code",
   "execution_count": 7,
   "id": "personalized-cornwall",
   "metadata": {},
   "outputs": [],
   "source": [
    "w = Window().partitionBy('path').orderBy(col(\"lapsed_time\").desc())\n",
    "max_times = df.withColumn(\"rn\", f.row_number().over(w)).where(col(\"rn\")==1).select(\"path\", \"lapsed_time\")"
   ]
  },
  {
   "cell_type": "code",
   "execution_count": 8,
   "id": "dental-crowd",
   "metadata": {},
   "outputs": [
    {
     "name": "stdout",
     "output_type": "stream",
     "text": [
      "+--------------------+------------------+\n",
      "|                path|       lapsed_time|\n",
      "+--------------------+------------------+\n",
      "|          /api/start|4.9317686557769775|\n",
      "|        /api/session|2.0220561027526855|\n",
      "|/api/responses/20632|1.3731091022491455|\n",
      "|/api/responses/20620|0.9699184894561768|\n",
      "|/api/responses/20613|0.9536592960357666|\n",
      "|/api/responses/20617|0.9455568790435791|\n",
      "|/api/responses/20626|0.9347579479217529|\n",
      "|/api/responses/20619|0.9235024452209473|\n",
      "|/api/responses/20616|0.9224331378936768|\n",
      "|/api/responses/20623|0.9163579940795898|\n",
      "|/api/responses/20628|0.9155228137969971|\n",
      "|/api/responses/20625|0.9143555164337158|\n",
      "|/api/responses/20629|0.9131894111633301|\n",
      "|/api/responses/20605|0.9115962982177734|\n",
      "|/api/responses/20631|0.9073126316070557|\n",
      "|/api/responses/20610|0.9065690040588379|\n",
      "|/api/responses/20607|0.9013702869415283|\n",
      "|/api/responses/20621| 0.901331901550293|\n",
      "|/api/responses/20622|0.9010651111602783|\n",
      "|/api/responses/20615| 0.900012731552124|\n",
      "+--------------------+------------------+\n",
      "only showing top 20 rows\n",
      "\n"
     ]
    }
   ],
   "source": [
    "max_times.orderBy(col(\"lapsed_time\").desc()).show()"
   ]
  },
  {
   "cell_type": "code",
   "execution_count": 14,
   "id": "solved-controversy",
   "metadata": {},
   "outputs": [
    {
     "name": "stdout",
     "output_type": "stream",
     "text": [
      "+---------------+\n",
      "|response_status|\n",
      "+---------------+\n",
      "+---------------+\n",
      "\n"
     ]
    }
   ],
   "source": [
    "df.filter(col(\"response_status\")!=302).filter(col(\"response_status\")!=200).select(\"response_status\").show()"
   ]
  },
  {
   "cell_type": "code",
   "execution_count": null,
   "id": "patient-better",
   "metadata": {},
   "outputs": [],
   "source": []
  }
 ],
 "metadata": {
  "kernelspec": {
   "display_name": "Python 3",
   "language": "python",
   "name": "python3"
  },
  "language_info": {
   "codemirror_mode": {
    "name": "ipython",
    "version": 3
   },
   "file_extension": ".py",
   "mimetype": "text/x-python",
   "name": "python",
   "nbconvert_exporter": "python",
   "pygments_lexer": "ipython3",
   "version": "3.8.6"
  }
 },
 "nbformat": 4,
 "nbformat_minor": 5
}
